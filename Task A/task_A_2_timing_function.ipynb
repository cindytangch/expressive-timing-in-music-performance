{
  "nbformat": 4,
  "nbformat_minor": 0,
  "metadata": {
    "colab": {
      "provenance": []
    },
    "kernelspec": {
      "name": "python3",
      "display_name": "Python 3"
    },
    "language_info": {
      "name": "python"
    }
  },
  "cells": [
    {
      "cell_type": "code",
      "execution_count": 4,
      "metadata": {
        "id": "FVdOJQpjM_NQ"
      },
      "outputs": [],
      "source": [
        "import os\n",
        "\n",
        "import numpy as np\n",
        "import pandas as pd\n",
        "\n",
        "import matplotlib.pyplot as plt\n",
        "import matplotlib.lines as mlines\n",
        "import seaborn as sns"
      ]
    },
    {
      "cell_type": "code",
      "source": [
        "# Mount google drive\n",
        "from google.colab import drive\n",
        "drive.mount('/content/drive')"
      ],
      "metadata": {
        "colab": {
          "base_uri": "https://localhost:8080/"
        },
        "id": "IHQ8H2hINEHn",
        "outputId": "389c7595-c515-47af-bbed-d1686afa9e8e"
      },
      "execution_count": 2,
      "outputs": [
        {
          "output_type": "stream",
          "name": "stdout",
          "text": [
            "Mounted at /content/drive\n"
          ]
        }
      ]
    },
    {
      "cell_type": "code",
      "source": [
        "# Change the path if necessary:\n",
        "root_dir = '/content/drive/Shareddrives/dh401_digital_musicology/dataframes romane/'\n",
        "base_dir = '/content/drive/Shareddrives/dh401_digital_musicology/'\n",
        "os.chdir(root_dir)"
      ],
      "metadata": {
        "id": "PrVKaVyHNiBD"
      },
      "execution_count": 5,
      "outputs": []
    },
    {
      "cell_type": "code",
      "source": [
        "s_11_3 = {}\n",
        "s_12_1 = {}\n",
        "s_12_2 = {}\n",
        "s_12_3 = {}\n",
        "s_8_1 = {}\n",
        "\n",
        "\n",
        "for filename in os.listdir(root_dir):\n",
        "  if filename[:4] == \"11-3\":\n",
        "        file_path = os.path.join(root_dir, filename)\n",
        "        df = pd.read_csv(file_path)\n",
        "        s_11_3[filename[5:]] = df\n",
        "  if filename[:4] == \"12-1\":\n",
        "        file_path = os.path.join(root_dir, filename)\n",
        "        df = pd.read_csv(file_path)\n",
        "        s_12_1[filename[5:]] = df\n",
        "  if filename[:4] == \"12-2\":\n",
        "        file_path = os.path.join(root_dir, filename)\n",
        "        df = pd.read_csv(file_path)\n",
        "        s_12_2[filename[5:]] = df\n",
        "  if filename[:4] == \"12-3\":\n",
        "        file_path = os.path.join(root_dir, filename)\n",
        "        df = pd.read_csv(file_path)\n",
        "        s_12_3[filename[5:]] = df\n",
        "  if filename[:3] == \"8-1\":\n",
        "        file_path = os.path.join(root_dir, filename)\n",
        "        df = pd.read_csv(file_path)\n",
        "        s_8_1[filename[4:]] = df"
      ],
      "metadata": {
        "id": "5h0KohCPNmR1"
      },
      "execution_count": 6,
      "outputs": []
    },
    {
      "cell_type": "code",
      "source": [
        "def normalize_durations(dictt):\n",
        "  relative_duration = []\n",
        "  for df in dictt:\n",
        "    dictt[df]['relative duration'] = (dictt[df][\"relative duration\"] - dictt[df][\"relative duration\"].mean())\n",
        "  return relative_duration\n"
      ],
      "metadata": {
        "id": "RXjYU1E4OAiW"
      },
      "execution_count": 15,
      "outputs": []
    },
    {
      "cell_type": "code",
      "source": [
        "relative_duration_11_3 = normalize_durations(s_11_3)\n",
        "relative_duration_8_1 = normalize_durations(s_8_1)\n",
        "relative_duration_12_1 = normalize_durations(s_12_1)\n",
        "relative_duration_12_2 = normalize_durations(s_12_2)\n",
        "relative_duration_12_3 = normalize_durations(s_12_3)"
      ],
      "metadata": {
        "id": "eMSJ_0-5ODw3"
      },
      "execution_count": 16,
      "outputs": []
    },
    {
      "cell_type": "code",
      "source": [
        "def extract_cdf(data):\n",
        "  cdfs = {}\n",
        "  sorted_values = {}\n",
        "  max =  next(iter(data.values())).beat_number.max()\n",
        "  for i in range(max):\n",
        "    values = []\n",
        "    for key, value in data.items():\n",
        "      df = pd.DataFrame(value)\n",
        "      beat = df[df['beat_number'] == i+1]\n",
        "      values.extend(beat['relative duration'].tolist())\n",
        "    sorted_values[i] = sorted(values)\n",
        "    cdfs[i] = (np.searchsorted(sorted_values[i], sorted_values[i], side='right') / len(sorted_values[i]))\n",
        "\n",
        "  return cdfs, sorted_values"
      ],
      "metadata": {
        "id": "7sLINqE4Kyg0"
      },
      "execution_count": 17,
      "outputs": []
    },
    {
      "cell_type": "code",
      "source": [
        "cdfs_11_3, sorted_11_3 = extract_cdf(s_11_3)\n",
        "cdfs_12_1, sorted_12_1 = extract_cdf(s_12_1)\n",
        "cdfs_12_2, sorted_12_2 = extract_cdf(s_12_2)\n",
        "cdfs_12_3, sorted_12_3 = extract_cdf(s_12_3)\n",
        "cdfs_8_1, sorted_8_1 = extract_cdf(s_8_1)"
      ],
      "metadata": {
        "id": "aYq6cUiIOwxP"
      },
      "execution_count": 18,
      "outputs": []
    },
    {
      "cell_type": "code",
      "source": [
        "def timing_function(midi_annotations_path, filename, sonata = '12-1'):\n",
        "  midi_annotations = preprocessing(midi_annotations_path)\n",
        "  rdm = np.random.uniform(size = len(midi_annotations))\n",
        "  time_sig = None\n",
        "  time = 0\n",
        "  index = 0\n",
        "  weight = 0\n",
        "  for i, row in midi_annotations.iterrows():\n",
        "    if row['metrics'] != None:\n",
        "      time_sig = row['metrics']\n",
        "      index = 0\n",
        "\n",
        "    if time_sig == '4/4':\n",
        "      if sonata == '12-2':\n",
        "        weight = sorted_12_2[index%4][np.searchsorted(cdfs_12_2[index%4], rdm[i]) - 1]\n",
        "      else:\n",
        "        weight = sorted_8_1[index%4][np.searchsorted(cdfs_8_1[index%4], rdm[i]) - 1]\n",
        "\n",
        "    if time_sig == '3/4':\n",
        "      weight = sorted_12_1[index%3][np.searchsorted(cdfs_12_1[index%3], rdm[i]) - 1]\n",
        "\n",
        "    if time_sig == '2/4':\n",
        "      weight = sorted_11_3[index%2][np.searchsorted(cdfs_11_3[index%2], rdm[i]) - 1]\n",
        "\n",
        "    if time_sig == '6/8':\n",
        "      weight = sorted_12_3[index%2][np.searchsorted(cdfs_12_3[index%2], rdm[i]) - 1]\n",
        "\n",
        "    midi_annotations.loc[i, 'time'] = time\n",
        "    if i < len(midi_annotations) - 1:\n",
        "      time += (midi_annotations.loc[i+1, 'time']-row['time'])*(1+weight)\n",
        "    index += 1\n",
        "\n",
        "  postprocessing(midi_annotations, filename)"
      ],
      "metadata": {
        "id": "yk2VeQDHEt2J"
      },
      "execution_count": 19,
      "outputs": []
    },
    {
      "cell_type": "code",
      "source": [
        "def preprocessing(path):\n",
        "  data = pd.read_csv(path, sep='\\t', header=None, names=['time', 'time1', 'info'])\n",
        "  data = data.drop(columns=['time1'])\n",
        "  data[['info', 'metrics', 'number']] = data['info'].str.split(',', expand=True)\n",
        "  return data"
      ],
      "metadata": {
        "id": "rin4r86JGCUA"
      },
      "execution_count": 20,
      "outputs": []
    },
    {
      "cell_type": "code",
      "source": [
        "def postprocessing(data, filename):\n",
        "    data['info'] = data[['info', 'metrics', 'number']].apply(lambda x: ','.join(x.dropna()), axis=1)\n",
        "    data = data.drop(columns=['metrics', 'number'])\n",
        "    data['time1'] = data['time']\n",
        "    data=data.reindex(columns=['time', 'time1', 'info'])\n",
        "    path_to_save = filename + '.txt'\n",
        "    data.to_csv(path_to_save, sep='\\t', index=False, header=None)\n",
        "    return path_to_save"
      ],
      "metadata": {
        "id": "iimnf6eFbSJP"
      },
      "execution_count": 21,
      "outputs": []
    },
    {
      "cell_type": "code",
      "source": [
        "timing_function(base_dir+'Mozart_Piano_Sonatas/12-1/midi_score_annotations.txt', 'generated/12-1', '12-1')"
      ],
      "metadata": {
        "id": "sTOP_GoydKAJ"
      },
      "execution_count": 22,
      "outputs": []
    }
  ]
}
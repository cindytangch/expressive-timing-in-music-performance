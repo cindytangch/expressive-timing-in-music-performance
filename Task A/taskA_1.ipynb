{
  "nbformat": 4,
  "nbformat_minor": 0,
  "metadata": {
    "colab": {
      "provenance": []
    },
    "kernelspec": {
      "name": "python3",
      "display_name": "Python 3"
    },
    "language_info": {
      "name": "python"
    }
  },
  "cells": [
    {
      "cell_type": "markdown",
      "source": [
        "# Assignmnent 1: Expressive Timing in Performance\n",
        "In this assignment we explore the distortion of the metrical grid in human performance. Your task is to find a interesting mapping from symbolic time to real time.\n",
        "\n",
        "Dataset: https://github.com/fosfrancesco/asap-dataset.\n",
        "\n",
        "- For each piece, the dataset contains two versions of MIDI files:\n",
        "  - unperformed MIDI corresponds to strict timing as shown in the score.\n",
        "  - performed MIDI corresponds to MIDI recording from human musicians performing the piece. In these files you will find the timing of the notes does not corresponds strictly to the symbolic metrical grid (i.e. the metrical grid is distorted).\n",
        "- The dataset contains pieces from different styles, you can decide which subcollection to use.\n",
        "- The dataset does not contain information about loudness/dynamics in the MIDI files (in a MIDI file this is called the \"velocity\" attribute). For this assignment, any attempts to model velocity will be considered a plus and you can do it freely according to your musical intuition.\n"
      ],
      "metadata": {
        "id": "fQ0a_SznqzXR"
      }
    },
    {
      "cell_type": "code",
      "source": [
        "# Import libraries\n",
        "import os\n",
        "\n",
        "import numpy as np\n",
        "import pandas as pd\n",
        "\n",
        "import matplotlib.pyplot as plt\n",
        "import seaborn as sns"
      ],
      "metadata": {
        "id": "nCHjE7GGqqHl"
      },
      "execution_count": 1,
      "outputs": []
    },
    {
      "cell_type": "code",
      "execution_count": 2,
      "metadata": {
        "colab": {
          "base_uri": "https://localhost:8080/"
        },
        "id": "LvBH5eSKgX2x",
        "outputId": "9169f3df-8c2b-4ea7-f5c1-96c17688ebad"
      },
      "outputs": [
        {
          "output_type": "stream",
          "name": "stdout",
          "text": [
            "Drive already mounted at /content/drive; to attempt to forcibly remount, call drive.mount(\"/content/drive\", force_remount=True).\n"
          ]
        }
      ],
      "source": [
        "# Mount google drive\n",
        "from google.colab import drive\n",
        "drive.mount('/content/drive')"
      ]
    },
    {
      "cell_type": "code",
      "source": [
        "# Change the path if necessary:\n",
        "root_dir = '/content/drive/Shareddrives/dh401_digital_musicology/Mozart_Piano_Sonatas/8-1/'\n",
        "os.chdir(root_dir)"
      ],
      "metadata": {
        "id": "xbYKirekhJZ3"
      },
      "execution_count": 3,
      "outputs": []
    },
    {
      "cell_type": "markdown",
      "source": [
        "## Task A.1. Analysis of timing in the performances of chosen corpus"
      ],
      "metadata": {
        "id": "CW24aYD7nA6C"
      }
    },
    {
      "cell_type": "code",
      "source": [
        "def preprocessing(path):\n",
        "  annotations = pd.read_csv(path, sep='\\t', header=None, names=['time', 'time1', 'info'])\n",
        "  annotations = annotations.drop(columns = ['time1'])\n",
        "  annotations[['info', 'metrics', 'number']] = annotations['info'].str.split(',', expand=True)\n",
        "  return annotations"
      ],
      "metadata": {
        "id": "xVx6LAqNbsTo"
      },
      "execution_count": 4,
      "outputs": []
    },
    {
      "cell_type": "code",
      "source": [
        "performed_annotations = preprocessing(root_dir+'Jia01_annotations.txt')\n",
        "unperformed_annotations = preprocessing(root_dir+'midi_score_annotations.txt')"
      ],
      "metadata": {
        "id": "Avm6StLUcGaf"
      },
      "execution_count": 9,
      "outputs": []
    },
    {
      "cell_type": "code",
      "source": [
        "def separate_time_sigs(df):\n",
        "\n",
        "  df.replace('', None, inplace=True)\n",
        "  indices = df.index[df['metrics'].notnull()].tolist()\n",
        "\n",
        "  if indices[-1] != df.index[-1]:\n",
        "      indices.append(df.index[-1])\n",
        "\n",
        "  separated_dfs = []\n",
        "\n",
        "  start_idx = 0\n",
        "  for idx in indices:\n",
        "      separated_df = df[start_idx:idx + 1]\n",
        "      separated_df = separated_df.reset_index().drop(columns = ['index', 'number'])\n",
        "      separated_dfs.append(separated_df)\n",
        "      start_idx = idx\n",
        "\n",
        "  return separated_dfs"
      ],
      "metadata": {
        "id": "DmDNq1Wb5sS-"
      },
      "execution_count": 10,
      "outputs": []
    },
    {
      "cell_type": "code",
      "source": [
        "separated_performed = separate_time_sigs(performed_annotations)\n",
        "separated_unperformed = separate_time_sigs(unperformed_annotations)"
      ],
      "metadata": {
        "id": "xzISVxsr5i5G"
      },
      "execution_count": 11,
      "outputs": []
    },
    {
      "cell_type": "code",
      "source": [
        "def number_of_beats_in_compound_time(time_signature):\n",
        "\n",
        "  # Split the time signature into its components\n",
        "  numerator, denominator = map(int, time_signature.split('/'))\n",
        "\n",
        "  # Check if the time signature is compound\n",
        "  if (denominator / 4)  == 2:\n",
        "      return numerator // 3\n",
        "  else:\n",
        "      return numerator"
      ],
      "metadata": {
        "id": "KAXTNllICueI"
      },
      "execution_count": 12,
      "outputs": []
    },
    {
      "cell_type": "code",
      "source": [
        "def add_beats(df_list):\n",
        "  for df in df_list:\n",
        "    if (df['metrics'].iloc[0] != None):\n",
        "        beats = number_of_beats_in_compound_time(df['metrics'].iloc[0])\n",
        "        df['beat_number'] = df.index % beats+1\n",
        "    else:\n",
        "      df_list.remove(df)\n",
        "\n",
        "    df.loc[df['info'] == 'bR', 'beat_number'] = 'bR'\n",
        "\n",
        "  return df_list\n"
      ],
      "metadata": {
        "id": "0fvUB0Kme50r"
      },
      "execution_count": 13,
      "outputs": []
    },
    {
      "cell_type": "code",
      "source": [
        "separated_unperformed = add_beats(separated_unperformed)\n",
        "separated_performed = add_beats(separated_performed)"
      ],
      "metadata": {
        "id": "wrh87Cl7BeFF"
      },
      "execution_count": 14,
      "outputs": []
    },
    {
      "cell_type": "code",
      "source": [
        "def add_durations(df_list):\n",
        "  for df in df_list:\n",
        "    for i, row in df.iterrows():\n",
        "      if i+1 != len(df):\n",
        "        df.loc[i, 'duration'] = float(float(df['time'].loc[i+1]) - float(row['time']))\n",
        "    df.drop(df.tail(1).index,inplace=True)\n",
        "  if df_list[0].empty:\n",
        "    df_list = df_list[1:]\n",
        "\n",
        "  return df_list"
      ],
      "metadata": {
        "id": "do3tUPNAfbug"
      },
      "execution_count": 15,
      "outputs": []
    },
    {
      "cell_type": "code",
      "source": [
        "separated_performed = add_durations(separated_performed)\n",
        "separated_unperformed = add_durations(separated_unperformed)"
      ],
      "metadata": {
        "id": "e0YiRKknBVvb"
      },
      "execution_count": 16,
      "outputs": []
    },
    {
      "cell_type": "code",
      "source": [
        "# Add performed relative durations of beats\n",
        "\n",
        "for i in range(len(separated_performed)):\n",
        "  df_per = separated_performed[i]\n",
        "  df_unp = separated_unperformed[i]\n",
        "  for j, row in df_per.iterrows():\n",
        "    df_per.loc[j, 'relative duration'] = float(row['duration']) / float(df_unp.loc[j, 'duration'])\n"
      ],
      "metadata": {
        "id": "bh9CAr-xydpm"
      },
      "execution_count": 17,
      "outputs": []
    },
    {
      "cell_type": "code",
      "source": [
        "# Plot the box plots for each beat in bar\n",
        "\n",
        "if len(separated_performed) > 1:\n",
        "  fig, axes = plt.subplots(1, len(separated_performed), figsize=(8*len(separated_performed), 4))\n",
        "  for ax, df in zip(axes, separated_performed):\n",
        "    sns.boxplot(data = df, x='beat_number', y='relative duration', ax=ax)\n",
        "\n",
        "sns.boxplot(data = separated_performed[0], x='beat_number', y='relative duration')\n",
        "plt.xlabel('beat number')\n",
        "plt.ylabel('relative duration of beat')\n",
        "plt.title('Jia, Piano Sonata 8-1')\n",
        "plt.show()"
      ],
      "metadata": {
        "colab": {
          "base_uri": "https://localhost:8080/",
          "height": 472
        },
        "id": "R_0F5JkMiCA5",
        "outputId": "6f333527-c026-4f7d-aef6-a53f7b7cc420"
      },
      "execution_count": 20,
      "outputs": [
        {
          "output_type": "display_data",
          "data": {
            "text/plain": [
              "<Figure size 640x480 with 1 Axes>"
            ],
            "image/png": "[encoded data removed]"
          },
          "metadata": {}
        }
      ]
    },
    {
      "cell_type": "code",
      "source": [
        "# separated_performed[0].to_csv('dataframes romane/8-1 Jia', sep=',', index=False, encoding='utf-8') # uncomment if you want to save the dataframe"
      ],
      "metadata": {
        "id": "uD9VsRMYDgiM"
      },
      "execution_count": 19,
      "outputs": []
    }
  ]
}